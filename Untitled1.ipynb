{
 "cells": [
  {
   "cell_type": "code",
   "execution_count": 1,
   "metadata": {},
   "outputs": [
    {
     "data": {
      "text/html": [
       "<div>\n",
       "<style scoped>\n",
       "    .dataframe tbody tr th:only-of-type {\n",
       "        vertical-align: middle;\n",
       "    }\n",
       "\n",
       "    .dataframe tbody tr th {\n",
       "        vertical-align: top;\n",
       "    }\n",
       "\n",
       "    .dataframe thead th {\n",
       "        text-align: right;\n",
       "    }\n",
       "</style>\n",
       "<table border=\"1\" class=\"dataframe\">\n",
       "  <thead>\n",
       "    <tr style=\"text-align: right;\">\n",
       "      <th></th>\n",
       "      <th>tourney_id</th>\n",
       "      <th>tourney_name</th>\n",
       "      <th>surface</th>\n",
       "      <th>draw_size</th>\n",
       "      <th>tourney_level</th>\n",
       "      <th>tourney_date</th>\n",
       "      <th>match_num</th>\n",
       "      <th>winner_id</th>\n",
       "      <th>winner_seed</th>\n",
       "      <th>winner_entry</th>\n",
       "      <th>...</th>\n",
       "      <th>l_ace</th>\n",
       "      <th>l_df</th>\n",
       "      <th>l_svpt</th>\n",
       "      <th>l_1stIn</th>\n",
       "      <th>l_1stWon</th>\n",
       "      <th>l_2ndWon</th>\n",
       "      <th>l_SvGms</th>\n",
       "      <th>l_bpSaved</th>\n",
       "      <th>l_bpFaced</th>\n",
       "      <th>year</th>\n",
       "    </tr>\n",
       "  </thead>\n",
       "  <tbody>\n",
       "    <tr>\n",
       "      <th>0</th>\n",
       "      <td>2000-717</td>\n",
       "      <td>Orlando</td>\n",
       "      <td>Clay</td>\n",
       "      <td>32.0</td>\n",
       "      <td>A</td>\n",
       "      <td>20000501.0</td>\n",
       "      <td>1.0</td>\n",
       "      <td>102179.0</td>\n",
       "      <td>NaN</td>\n",
       "      <td>NaN</td>\n",
       "      <td>...</td>\n",
       "      <td>13.0</td>\n",
       "      <td>4.0</td>\n",
       "      <td>110.0</td>\n",
       "      <td>59.0</td>\n",
       "      <td>49.0</td>\n",
       "      <td>31.0</td>\n",
       "      <td>17.0</td>\n",
       "      <td>4.0</td>\n",
       "      <td>4.0</td>\n",
       "      <td>2000</td>\n",
       "    </tr>\n",
       "    <tr>\n",
       "      <th>1</th>\n",
       "      <td>2000-717</td>\n",
       "      <td>Orlando</td>\n",
       "      <td>Clay</td>\n",
       "      <td>32.0</td>\n",
       "      <td>A</td>\n",
       "      <td>20000501.0</td>\n",
       "      <td>2.0</td>\n",
       "      <td>103602.0</td>\n",
       "      <td>NaN</td>\n",
       "      <td>Q</td>\n",
       "      <td>...</td>\n",
       "      <td>0.0</td>\n",
       "      <td>0.0</td>\n",
       "      <td>57.0</td>\n",
       "      <td>24.0</td>\n",
       "      <td>13.0</td>\n",
       "      <td>17.0</td>\n",
       "      <td>10.0</td>\n",
       "      <td>4.0</td>\n",
       "      <td>9.0</td>\n",
       "      <td>2000</td>\n",
       "    </tr>\n",
       "    <tr>\n",
       "      <th>2</th>\n",
       "      <td>2000-717</td>\n",
       "      <td>Orlando</td>\n",
       "      <td>Clay</td>\n",
       "      <td>32.0</td>\n",
       "      <td>A</td>\n",
       "      <td>20000501.0</td>\n",
       "      <td>3.0</td>\n",
       "      <td>103387.0</td>\n",
       "      <td>NaN</td>\n",
       "      <td>NaN</td>\n",
       "      <td>...</td>\n",
       "      <td>2.0</td>\n",
       "      <td>2.0</td>\n",
       "      <td>65.0</td>\n",
       "      <td>39.0</td>\n",
       "      <td>22.0</td>\n",
       "      <td>10.0</td>\n",
       "      <td>8.0</td>\n",
       "      <td>6.0</td>\n",
       "      <td>10.0</td>\n",
       "      <td>2000</td>\n",
       "    </tr>\n",
       "    <tr>\n",
       "      <th>3</th>\n",
       "      <td>2000-717</td>\n",
       "      <td>Orlando</td>\n",
       "      <td>Clay</td>\n",
       "      <td>32.0</td>\n",
       "      <td>A</td>\n",
       "      <td>20000501.0</td>\n",
       "      <td>4.0</td>\n",
       "      <td>101733.0</td>\n",
       "      <td>NaN</td>\n",
       "      <td>NaN</td>\n",
       "      <td>...</td>\n",
       "      <td>4.0</td>\n",
       "      <td>6.0</td>\n",
       "      <td>104.0</td>\n",
       "      <td>57.0</td>\n",
       "      <td>35.0</td>\n",
       "      <td>24.0</td>\n",
       "      <td>15.0</td>\n",
       "      <td>6.0</td>\n",
       "      <td>11.0</td>\n",
       "      <td>2000</td>\n",
       "    </tr>\n",
       "    <tr>\n",
       "      <th>4</th>\n",
       "      <td>2000-717</td>\n",
       "      <td>Orlando</td>\n",
       "      <td>Clay</td>\n",
       "      <td>32.0</td>\n",
       "      <td>A</td>\n",
       "      <td>20000501.0</td>\n",
       "      <td>5.0</td>\n",
       "      <td>101727.0</td>\n",
       "      <td>4.0</td>\n",
       "      <td>NaN</td>\n",
       "      <td>...</td>\n",
       "      <td>0.0</td>\n",
       "      <td>3.0</td>\n",
       "      <td>47.0</td>\n",
       "      <td>28.0</td>\n",
       "      <td>17.0</td>\n",
       "      <td>10.0</td>\n",
       "      <td>8.0</td>\n",
       "      <td>3.0</td>\n",
       "      <td>6.0</td>\n",
       "      <td>2000</td>\n",
       "    </tr>\n",
       "  </tbody>\n",
       "</table>\n",
       "<p>5 rows × 50 columns</p>\n",
       "</div>"
      ],
      "text/plain": [
       "  tourney_id tourney_name surface  draw_size tourney_level  tourney_date  \\\n",
       "0   2000-717      Orlando    Clay       32.0             A    20000501.0   \n",
       "1   2000-717      Orlando    Clay       32.0             A    20000501.0   \n",
       "2   2000-717      Orlando    Clay       32.0             A    20000501.0   \n",
       "3   2000-717      Orlando    Clay       32.0             A    20000501.0   \n",
       "4   2000-717      Orlando    Clay       32.0             A    20000501.0   \n",
       "\n",
       "   match_num  winner_id  winner_seed winner_entry  ... l_ace l_df  l_svpt  \\\n",
       "0        1.0   102179.0          NaN          NaN  ...  13.0  4.0   110.0   \n",
       "1        2.0   103602.0          NaN            Q  ...   0.0  0.0    57.0   \n",
       "2        3.0   103387.0          NaN          NaN  ...   2.0  2.0    65.0   \n",
       "3        4.0   101733.0          NaN          NaN  ...   4.0  6.0   104.0   \n",
       "4        5.0   101727.0          4.0          NaN  ...   0.0  3.0    47.0   \n",
       "\n",
       "  l_1stIn  l_1stWon  l_2ndWon  l_SvGms  l_bpSaved  l_bpFaced  year  \n",
       "0    59.0      49.0      31.0     17.0        4.0        4.0  2000  \n",
       "1    24.0      13.0      17.0     10.0        4.0        9.0  2000  \n",
       "2    39.0      22.0      10.0      8.0        6.0       10.0  2000  \n",
       "3    57.0      35.0      24.0     15.0        6.0       11.0  2000  \n",
       "4    28.0      17.0      10.0      8.0        3.0        6.0  2000  \n",
       "\n",
       "[5 rows x 50 columns]"
      ]
     },
     "metadata": {},
     "output_type": "display_data"
    },
    {
     "name": "stdout",
     "output_type": "stream",
     "text": [
      "53508\n",
      "['Roger Federer' 'Rafael Nadal' 'Novak Djokovic' 'Andy Murray'\n",
      " 'Stanislas Wawrinka' 'Juan Martin Del Potro' 'Milos Raonic'\n",
      " 'Kei Nishikori' 'Gael Monfils' 'Tomas Berdych' 'Jo Wilfried Tsonga'\n",
      " 'David Ferrer' 'Richard Gasquet' 'Marin Cilic' 'Grigor Dimitrov'\n",
      " 'Dominic Thiem' 'Nick Kyrgios' 'Alexander Zverev']\n"
     ]
    },
    {
     "data": {
      "image/png": "[encoded data removed]",
      "text/plain": [
       "<Figure size 1080x360 with 2 Axes>"
      ]
     },
     "metadata": {
      "needs_background": "light"
     },
     "output_type": "display_data"
    }
   ],
   "source": [
    "from matplotlib.colors import LinearSegmentedColormap\n",
    "import numpy as np\n",
    "import pandas as pd\n",
    "import matplotlib\n",
    "import matplotlib.pylab as plt\n",
    "import pystan\n",
    "\n",
    "cols = [\n",
    "    'tourney_id',  # Id of Tournament\n",
    "    'tourney_name',  # Name of the Tournament\n",
    "    'surface',  # Surface of the Court (Hard, Clay, Grass)\n",
    "    'draw_size',  # Number of people in the tournament\n",
    "    'tourney_level',  # Level of the tournament (A=ATP Tour, D=Davis Cup, G=Grand Slam, M=Masters)\n",
    "    'tourney_date',  # Start date of tournament\n",
    "    'match_num',  # Match number\n",
    "    'winner_id',  # Id of winner\n",
    "    'winner_seed',  # Seed of winner\n",
    "    'winner_entry',  # How the winner entered the tournament\n",
    "    'winner_name',  # Name of winner\n",
    "    'winner_hand',  # Dominant hand of winner (L=Left, R=Right, U=Unknown?)\n",
    "    'winner_ht',  # Height in cm of winner\n",
    "    'winner_ioc',  # Country of winner\n",
    "    'winner_age',  # Age of winner\n",
    "    'winner_rank',  # Rank of winner\n",
    "    'winner_rank_points',  # Rank points of winner\n",
    "    'loser_id',\n",
    "    'loser_seed',\n",
    "    'loser_entry',\n",
    "    'loser_name',\n",
    "    'loser_hand',\n",
    "    'loser_ht',\n",
    "    'loser_ioc',\n",
    "    'loser_age',\n",
    "    'loser_rank',\n",
    "    'loser_rank_points',\n",
    "    'score',  # Score\n",
    "    'best_of',  # Best of X number of sets\n",
    "    'round',  # Round\n",
    "    'minutes',  # Match length in minutes\n",
    "    'w_ace',  # Number of aces for winner\n",
    "    'w_df',  # Number of double faults for winner\n",
    "    'w_svpt',  # Number of service points played by winner\n",
    "    'w_1stIn',  # Number of first serves in for winner\n",
    "    'w_1stWon',  # Number of first serve points won for winner\n",
    "    'w_2ndWon',  # Number of second serve points won for winner\n",
    "    'w_SvGms',  # Number of service games played by winner\n",
    "    'w_bpSaved',  # Number of break points saved by winner\n",
    "    'w_bpFaced',  # Number of break points faced by winner\n",
    "    'l_ace',\n",
    "    'l_df',\n",
    "    'l_svpt',\n",
    "    'l_1stIn',\n",
    "    'l_1stWon',\n",
    "    'l_2ndWon',\n",
    "    'l_SvGms',\n",
    "    'l_bpSaved',\n",
    "    'l_bpFaced'\n",
    "]\n",
    "\n",
    "df_matches = pd.concat([\n",
    "    pd.read_csv('./atp_matches_dataset/atp_matches_2000.csv', usecols=cols),\n",
    "    pd.read_csv('./atp_matches_dataset/atp_matches_2001.csv', usecols=cols),\n",
    "    pd.read_csv('./atp_matches_dataset/atp_matches_2002.csv', usecols=cols),\n",
    "    pd.read_csv('./atp_matches_dataset/atp_matches_2003.csv', usecols=cols),\n",
    "    pd.read_csv('./atp_matches_dataset/atp_matches_2004.csv', usecols=cols),\n",
    "    pd.read_csv('./atp_matches_dataset/atp_matches_2005.csv', usecols=cols),\n",
    "    pd.read_csv('./atp_matches_dataset/atp_matches_2006.csv', usecols=cols),\n",
    "    pd.read_csv('./atp_matches_dataset/atp_matches_2007.csv', usecols=cols),\n",
    "    pd.read_csv('./atp_matches_dataset/atp_matches_2008.csv', usecols=cols),\n",
    "    pd.read_csv('./atp_matches_dataset/atp_matches_2009.csv', usecols=cols),\n",
    "    pd.read_csv('./atp_matches_dataset/atp_matches_2010.csv', usecols=cols),\n",
    "    pd.read_csv('./atp_matches_dataset/atp_matches_2011.csv', usecols=cols),\n",
    "    pd.read_csv('./atp_matches_dataset/atp_matches_2012.csv', usecols=cols),\n",
    "    pd.read_csv('./atp_matches_dataset/atp_matches_2013.csv', usecols=cols),\n",
    "    pd.read_csv('./atp_matches_dataset/atp_matches_2014.csv', usecols=cols),\n",
    "    pd.read_csv('./atp_matches_dataset/atp_matches_2015.csv', usecols=cols),\n",
    "    pd.read_csv('./atp_matches_dataset/atp_matches_2016.csv', usecols=cols),\n",
    "    pd.read_csv('./atp_matches_dataset/atp_matches_2017.csv', usecols=cols),\n",
    "])\n",
    "df_matches = df_matches.dropna(subset=['tourney_date'])\n",
    "df_matches['year'] = df_matches['tourney_date'].apply(lambda x: int(str(x)[0:4]))\n",
    "display(df_matches.head())\n",
    "\n",
    "\n",
    "arr_target_player = np.array([\n",
    "    'Roger Federer',\n",
    "    'Rafael Nadal',\n",
    "    'Novak Djokovic',\n",
    "    'Andy Murray',\n",
    "    'Stanislas Wawrinka',\n",
    "    'Juan Martin Del Potro',\n",
    "    'Milos Raonic',\n",
    "    'Kei Nishikori',\n",
    "    'Gael Monfils',\n",
    "    'Tomas Berdych',\n",
    "    'Jo Wilfried Tsonga',\n",
    "    'David Ferrer',\n",
    "    'Richard Gasquet',\n",
    "    'Marin Cilic',\n",
    "    'Grigor Dimitrov',\n",
    "    'Dominic Thiem',\n",
    "    'Nick Kyrgios',\n",
    "    'Alexander Zverev'\n",
    "])\n",
    "\n",
    "print(arr_target_player)\n",
    "\n",
    "df_tmp = df_matches[\n",
    "    (df_matches['year'] >= 2008) &\n",
    "    (df_matches['winner_name'].isin(arr_target_player)) &\n",
    "    (df_matches['loser_name'].isin(arr_target_player))\n",
    "]\n",
    "\n",
    "arr_cnt = []\n",
    "arr_rate = []\n",
    "\n",
    "for player in arr_target_player:\n",
    "    cnt_win = len(df_tmp[df_tmp['winner_name'] == player])\n",
    "    cnt_lose = len(df_tmp[df_tmp['loser_name'] == player])\n",
    "\n",
    "    arr_cnt.append(cnt_win + cnt_lose)\n",
    "    arr_rate.append(cnt_win / (cnt_win + cnt_lose))\n",
    "\n",
    "fig, axs = plt.subplots(ncols=2, figsize=(15, 5))\n",
    "\n",
    "axs[0].bar(x=arr_target_player, height=arr_cnt, color='b', alpha=0.5)\n",
    "axs[0].set(xlabel='player', ylabel='cnt')\n",
    "\n",
    "for tick in axs[0].get_xticklabels():\n",
    "    tick.set_rotation(75)\n",
    "\n",
    "axs[1].bar(x=arr_target_player, height=arr_rate, color='r', alpha=0.5)\n",
    "axs[1].set(xlabel='player', ylabel='rate')\n",
    "\n",
    "for tick in axs[1].get_xticklabels():\n",
    "    tick.set_rotation(75)\n",
    "\n",
    "plt.show()"
   ]
  },
  {
   "cell_type": "code",
   "execution_count": 28,
   "metadata": {},
   "outputs": [],
   "source": [
    "import pandas as pd\n",
    "import numpy as np\n",
    "df = pd.DataFrame({'x': [1, 2, 3, 4], 'y': ['2', '2', '2', '2']})\n",
    "s = np.asarray([[1,2,3],[1,2,3]])"
   ]
  },
  {
   "cell_type": "code",
   "execution_count": 29,
   "metadata": {},
   "outputs": [
    {
     "data": {
      "text/plain": [
       "array([[1, 2, 3],\n",
       "       [1, 2, 3]])"
      ]
     },
     "execution_count": 29,
     "metadata": {},
     "output_type": "execute_result"
    }
   ],
   "source": [
    "s"
   ]
  },
  {
   "cell_type": "code",
   "execution_count": null,
   "metadata": {},
   "outputs": [],
   "source": []
  },
  {
   "cell_type": "code",
   "execution_count": null,
   "metadata": {},
   "outputs": [],
   "source": []
  },
  {
   "cell_type": "code",
   "execution_count": 21,
   "metadata": {},
   "outputs": [
    {
     "name": "stdout",
     "output_type": "stream",
     "text": [
      "   x  y\n",
      "0  1  2\n",
      "1  2  2\n",
      "2  3  2\n",
      "3  4  2\n"
     ]
    }
   ],
   "source": [
    "print(df)"
   ]
  },
  {
   "cell_type": "code",
   "execution_count": 23,
   "metadata": {},
   "outputs": [
    {
     "ename": "NameError",
     "evalue": "name 'x' is not defined",
     "output_type": "error",
     "traceback": [
      "\u001b[0;31m---------------------------------------------------------------------------\u001b[0m",
      "\u001b[0;31mNameError\u001b[0m                                 Traceback (most recent call last)",
      "\u001b[0;32m<ipython-input-23-88cf3f203aad>\u001b[0m in \u001b[0;36m<module>\u001b[0;34m\u001b[0m\n\u001b[0;32m----> 1\u001b[0;31m \u001b[0ma\u001b[0m \u001b[0;34m=\u001b[0m \u001b[0mdf\u001b[0m\u001b[0;34m.\u001b[0m\u001b[0mapply\u001b[0m\u001b[0;34m(\u001b[0m\u001b[0mx\u001b[0m \u001b[0;34m+\u001b[0m\u001b[0;36m2\u001b[0m\u001b[0;34m)\u001b[0m\u001b[0;34m\u001b[0m\u001b[0;34m\u001b[0m\u001b[0m\n\u001b[0m",
      "\u001b[0;31mNameError\u001b[0m: name 'x' is not defined"
     ]
    }
   ],
   "source": [
    "a = df.apply(x +2)"
   ]
  },
  {
   "cell_type": "code",
   "execution_count": null,
   "metadata": {},
   "outputs": [],
   "source": []
  },
  {
   "cell_type": "code",
   "execution_count": null,
   "metadata": {},
   "outputs": [],
   "source": []
  },
  {
   "cell_type": "code",
   "execution_count": null,
   "metadata": {},
   "outputs": [],
   "source": []
  },
  {
   "cell_type": "code",
   "execution_count": null,
   "metadata": {},
   "outputs": [],
   "source": []
  },
  {
   "cell_type": "code",
   "execution_count": 18,
   "metadata": {},
   "outputs": [
    {
     "name": "stdout",
     "output_type": "stream",
     "text": [
      "   x   y\n",
      "0  2  AA\n",
      "1  4  BB\n",
      "2  6  CC\n",
      "3  8  DD\n"
     ]
    }
   ],
   "source": [
    "print(a)"
   ]
  },
  {
   "cell_type": "code",
   "execution_count": 32,
   "metadata": {},
   "outputs": [],
   "source": [
    "\n",
    "a = [1,2,3,4]\n",
    "dic = {}\n",
    "for i in a:\n",
    "    dic[i] = len(dic) + 1 "
   ]
  },
  {
   "cell_type": "code",
   "execution_count": 33,
   "metadata": {},
   "outputs": [
    {
     "name": "stdout",
     "output_type": "stream",
     "text": [
      "{1: 1, 2: 2, 3: 3, 4: 4}\n"
     ]
    }
   ],
   "source": [
    "print(dic)"
   ]
  },
  {
   "cell_type": "code",
   "execution_count": 37,
   "metadata": {},
   "outputs": [
    {
     "name": "stdout",
     "output_type": "stream",
     "text": [
      "2\n"
     ]
    }
   ],
   "source": [
    "print(dic[2])"
   ]
  },
  {
   "cell_type": "code",
   "execution_count": null,
   "metadata": {},
   "outputs": [],
   "source": []
  },
  {
   "cell_type": "code",
   "execution_count": null,
   "metadata": {},
   "outputs": [],
   "source": []
  }
 ],
 "metadata": {
  "kernelspec": {
   "display_name": "Python 3",
   "language": "python",
   "name": "python3"
  },
  "language_info": {
   "codemirror_mode": {
    "name": "ipython",
    "version": 3
   },
   "file_extension": ".py",
   "mimetype": "text/x-python",
   "name": "python",
   "nbconvert_exporter": "python",
   "pygments_lexer": "ipython3",
   "version": "3.7.6"
  }
 },
 "nbformat": 4,
 "nbformat_minor": 4
}
